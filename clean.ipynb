{
 "cells": [
  {
   "cell_type": "code",
   "execution_count": 2,
   "metadata": {},
   "outputs": [
    {
     "ename": "ModuleNotFoundError",
     "evalue": "No module named 'pandas'",
     "output_type": "error",
     "traceback": [
      "\u001b[0;31m---------------------------------------------------------------------------\u001b[0m",
      "\u001b[0;31mModuleNotFoundError\u001b[0m                       Traceback (most recent call last)",
      "Cell \u001b[0;32mIn[2], line 1\u001b[0m\n\u001b[0;32m----> 1\u001b[0m \u001b[39mimport\u001b[39;00m \u001b[39mpandas\u001b[39;00m \u001b[39mas\u001b[39;00m \u001b[39mpd\u001b[39;00m\n\u001b[1;32m      3\u001b[0m \u001b[39m# Load the Population and Unicorn data from CSV files\u001b[39;00m\n\u001b[1;32m      4\u001b[0m population_df \u001b[39m=\u001b[39m pd\u001b[39m.\u001b[39mread_csv(\u001b[39m\"\u001b[39m\u001b[39mdata/Population.csv\u001b[39m\u001b[39m\"\u001b[39m)\n",
      "\u001b[0;31mModuleNotFoundError\u001b[0m: No module named 'pandas'"
     ]
    }
   ],
   "source": [
    "import pandas as pd\n",
    "\n",
    "# Load the Population and Unicorn data from CSV files\n",
    "population_df = pd.read_csv(\"data/Population.csv\")\n",
    "unicorn_df = pd.read_csv(\"data/Unicorn.csv\")\n",
    "\n",
    "# Merge the two dataframes based on the \"Country\" column\n",
    "merged_df = unicorn_df.merge(population_df, on=\"Country\", how=\"natural\")\n",
    "\n",
    "# Calculate the number of companies per country\n",
    "company_counts = merged_df[\"Country\"].value_counts().reset_index()\n",
    "company_counts.columns = [\"Country\", \"CompanyCount\"]\n",
    "\n",
    "# Calculate the companies per 100,000 population\n",
    "company_counts[\"CompaniesPer100K\"] = (company_counts[\"CompanyCount\"] / (company_counts[\"Current Population\"] / 100000)).round(2)\n",
    "\n",
    "# Display the resulting dataframe\n",
    "print(company_counts)\n"
   ]
  }
 ],
 "metadata": {
  "kernelspec": {
   "display_name": "Python 3",
   "language": "python",
   "name": "python3"
  },
  "language_info": {
   "codemirror_mode": {
    "name": "ipython",
    "version": 3
   },
   "file_extension": ".py",
   "mimetype": "text/x-python",
   "name": "python",
   "nbconvert_exporter": "python",
   "pygments_lexer": "ipython3",
   "version": "3.11.3"
  },
  "orig_nbformat": 4,
  "vscode": {
   "interpreter": {
    "hash": "aee8b7b246df8f9039afb4144a1f6fd8d2ca17a180786b69acc140d282b71a49"
   }
  }
 },
 "nbformat": 4,
 "nbformat_minor": 2
}
